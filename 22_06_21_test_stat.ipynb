{
  "nbformat": 4,
  "nbformat_minor": 0,
  "metadata": {
    "colab": {
      "name": "22.06.21.test.stat.ipynb",
      "provenance": [],
      "collapsed_sections": [],
      "authorship_tag": "ABX9TyNsn7MZZFmoroKsecLZ14Wd",
      "include_colab_link": true
    },
    "kernelspec": {
      "name": "python3",
      "display_name": "Python 3"
    },
    "language_info": {
      "name": "python"
    }
  },
  "cells": [
    {
      "cell_type": "markdown",
      "metadata": {
        "id": "view-in-github",
        "colab_type": "text"
      },
      "source": [
        "<a href=\"https://colab.research.google.com/github/2020rmath/hello-word/blob/master/22_06_21_test_stat.ipynb\" target=\"_parent\"><img src=\"https://colab.research.google.com/assets/colab-badge.svg\" alt=\"Open In Colab\"/></a>"
      ]
    },
    {
      "cell_type": "code",
      "execution_count": null,
      "metadata": {
        "colab": {
          "base_uri": "https://localhost:8080/",
          "height": 300
        },
        "id": "BWnrZpoolsd2",
        "outputId": "f6e437be-4efb-4928-837f-ce751d39e072"
      },
      "outputs": [
        {
          "output_type": "stream",
          "name": "stdout",
          "text": [
            "Promedio de la muestra= 4.86 , una realización del estadístico media muestral\n"
          ]
        },
        {
          "output_type": "display_data",
          "data": {
            "text/plain": [
              "<Figure size 432x288 with 1 Axes>"
            ],
            "image/png": "[encoded data removed]"
          },
          "metadata": {
            "needs_background": "light"
          }
        }
      ],
      "source": [
        "import numpy as np\n",
        "import scipy.stats\n",
        "import seaborn\n",
        "\n",
        "seaborn.set_context('talk')\n",
        "\n",
        "n = 500 \n",
        "\n",
        "lambd = 5 \n",
        "\n",
        "sample = scipy.stats.poisson.rvs(lambd, size=n) #muestra aleatoria X_1,  ... X_n (de tamaño n)\n",
        "\n",
        "seaborn.histplot(sample, bins=12)\n",
        "print ('Promedio de la muestra=', sample.mean(), ', una realización del estadístico media muestral')\n"
      ]
    },
    {
      "cell_type": "code",
      "source": [
        "import numpy as np\n",
        "x=np.array([2,2,2])\n",
        "np.mean(x)\n",
        "y=np.array([1,1,2])\n",
        "z=np.concatenate([x,y])\n",
        "np.mean(z)\n",
        "np.power(x,y)\n",
        "\n"
      ],
      "metadata": {
        "colab": {
          "base_uri": "https://localhost:8080/"
        },
        "id": "7HLB3TZPvaV_",
        "outputId": "de8edc7a-f07c-4942-a746-debfdba83c92"
      },
      "execution_count": null,
      "outputs": [
        {
          "output_type": "execute_result",
          "data": {
            "text/plain": [
              "array([2, 2, 4])"
            ]
          },
          "metadata": {},
          "execution_count": 34
        }
      ]
    }
  ]
}